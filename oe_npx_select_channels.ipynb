{
 "cells": [
  {
   "cell_type": "code",
   "execution_count": 6,
   "metadata": {},
   "outputs": [],
   "source": [
    "import numpy as np\n",
    "import matplotlib.pyplot as plt\n",
    "import time\n",
    "\n",
    "from open_ephys.control import OpenEphysHTTPServer"
   ]
  },
  {
   "cell_type": "code",
   "execution_count": 20,
   "metadata": {},
   "outputs": [],
   "source": [
    "class Npx2_Channel_Selector():\n",
    "    \"\"\"\n",
    "    Class to handle channel selection for the Neuropixels 2 probes.\n",
    "\n",
    "    The probe has 4 shanks, each with 2 columns of electrodes, spaced by 15/32 um in the y/x directions.\n",
    "    Within each shank, there are ~3.33 banks of 384 electrodes.\n",
    "    Within each bank, there are 8 channel groups of 48 electrodes.\n",
    "    (These groups are always paired [tho unclear if this matters?], so the effective unit is 96, which we call a \"row\".)\n",
    "\n",
    "    Currently implemented configurations:\n",
    "    - linear_single_shank: Record from all 8 groups in a bank, on one particular shank.\n",
    "    - dense_row: Record from a dense row across the probe (2 groups in each shank, in a given bank).\n",
    "    - diagonal: Record from a diagonal line across the probe (2 groups in each shank, in a given bank).\n",
    "    - double_tall: Record from a single-width column of contacts across two adjacent banks, on a single shank.\n",
    "    \n",
    "    UNTESTED configurations:\n",
    "    - half_bank: Record from a half-bank (4 groups) on two adjacent shanks (0 and 1, or 2 and 3).\n",
    "    - dense_row_offset: Record from a dense row across the probe, but offset by one half-group (ie starting w )\n",
    "    \"\"\"\n",
    "\n",
    "    def __init__(self):\n",
    "        self.n_shanks = 4\n",
    "        self.n_banks_per_shank = 3.33\n",
    "        self.shank_pitch_x = 250  # um\n",
    "        self.shank_width_x = 70 # um\n",
    "        self.shank_offsets_x = np.array([0, 250, 500, 750])\n",
    "\n",
    "        # Channel group info\n",
    "        self.n_groups_per_bank = 8\n",
    "        self.n_groups_per_row = 2  # this is a bit hacky, but since the groups are paired, we'll treat them each pair as a \"row\".\n",
    "        self.n_rows_per_bank = self.n_groups_per_bank // self.n_groups_per_row\n",
    "        self.shank_1_order = [1, 3, 5, 7, 6, 8, 2, 4]\n",
    "        self.shank_2_order = [2, 4, 6, 8, 5, 7, 1, 3]\n",
    "        self.shank_3_order = [5, 7, 1, 3, 2, 4, 6, 8]\n",
    "        self.shank_4_order = [6, 8, 2, 4, 1, 3, 5, 7]\n",
    "        self.n_ch_per_group = 48\n",
    "\n",
    "        # Electrode info per shank\n",
    "        self.n_cols = 2\n",
    "        self.dy = 15\n",
    "        self.dx = 32\n",
    "        self.n_elec_per_shank = 1280\n",
    "        self.n_elec_per_bank = 384\n",
    "        self.shank_electrode_ids = np.arange(self.n_elec_per_shank)\n",
    "        self.shank_electrode_positions = np.zeros((self.n_elec_per_shank, 2))\n",
    "        for i in range(self.n_elec_per_shank):\n",
    "            self.shank_electrode_positions[i, 0] = (i % 2) * self.dx\n",
    "            self.shank_electrode_positions[i, 1] = (i // 2) * self.dy\n",
    "        \n",
    "        # State info\n",
    "        self.current_eids = []\n",
    "        self.current_shanks = []\n",
    "        self.current_eposns = []\n",
    "\n",
    "    def oe_connect(self, processor_id, basestation, port, dock):\n",
    "        self.gui = OpenEphysHTTPServer()\n",
    "        self.oe_info = dict(\n",
    "            processor_id=processor_id,\n",
    "            basestation=basestation,\n",
    "            port=port,\n",
    "            dock=dock\n",
    "        )\n",
    "        cmd = f'NP INFO'  # Try to send a basic command to validate\n",
    "        try:\n",
    "            self.gui.config(processor_id, cmd)\n",
    "        except:\n",
    "            raise ValueError(f\"Failed to connect to Open Ephys GUI.\")\n",
    "        try:\n",
    "            self.gui.acquire(1)\n",
    "        except:\n",
    "            raise ValueError(f\"Failed to acquire data stream.\") \n",
    "\n",
    "    def oe_select_current_channels(self):\n",
    "        \"\"\"\n",
    "        Select the current channels in the Open Ephys GUI.\n",
    "        command is like: NP SELECT <bs> <port> <dock> <electrode> <electrode> <electrode> ...\n",
    "        \"\"\"\n",
    "        if len(self.current_eids) == 0:\n",
    "            raise ValueError(\"No electrodes selected.\")\n",
    "        \n",
    "        # The pxi simply numbers the electrodes 1 2...1279 1280; 1281 1282...2559, 2560; etc.\n",
    "        eids_pxi = [str(eid + sid * self.n_elec_per_shank) for eid,sid in zip(self.current_eids, self.current_shanks)]\n",
    "        eids_pxi = ' '.join(eids_pxi)\n",
    "        d = self.oe_info\n",
    "        cmd = f'NP SELECT {d[\"basestation\"]} {d[\"port\"]} {d[\"dock\"]} {eids_pxi}'\n",
    "        self.gui.config(d[\"processor_id\"], cmd)\n",
    "\n",
    "    def eids_from_group(self, bank, group):\n",
    "        \"\"\"\n",
    "        Get the electrode ids for a given bank and group.\n",
    "        \"\"\"\n",
    "        return np.arange(48) + 48 * group + 384 * bank\n",
    "\n",
    "    def eposns_from_group(self, shank, bank, group):\n",
    "        \"\"\"\n",
    "        Get the electrode positions for a given shank, bank and group.\n",
    "        \"\"\"\n",
    "        electrode_ids = self.eids_from_group(bank, group)\n",
    "        shank_electrode_posns = self.shank_electrode_positions[electrode_ids]\n",
    "        return shank_electrode_posns + np.array([self.shank_offsets_x[shank], 0])\n",
    "\n",
    "    def set_linear_single_shank(self, shank, bank):\n",
    "        \"\"\"\n",
    "        Record from all 8 groups in a bank, on one particular shank.\n",
    "        \"\"\"\n",
    "        self.current_eids = [self.eids_from_group(bank, g) for g in range(self.n_groups_per_bank)] \n",
    "        self.current_eids = np.concatenate(self.current_eids)\n",
    "        self.current_shanks = [shank] * 384\n",
    "        posns_within_shank = self.shank_electrode_positions[self.current_eids, :]\n",
    "        shank_offsets = np.array([self.shank_offsets_x[shank], 0])\n",
    "        self.current_eposns = posns_within_shank + shank_offsets\n",
    "\n",
    "    def set_half_bank(self, shanks, bank):\n",
    "        \"\"\"\n",
    "        Record from a half-bank (4 groups) on two adjacent shanks (0 and 1, or 2 and 3).\n",
    "        \"\"\"\n",
    "        self.current_eids = []\n",
    "        self.current_shanks = []\n",
    "        self.current_eposns = []\n",
    "        assert len(shanks) == 2\n",
    "        assert (shanks==[0,1] or shanks==[2,3])\n",
    "        for shank in shanks:\n",
    "            for group in range(4):\n",
    "                these_eids = self.eids_from_group(bank, group)\n",
    "                self.current_eids.append(these_eids)\n",
    "                self.current_shanks.append([shank] * len(these_eids))\n",
    "                posns_within_shank = self.shank_electrode_positions[these_eids, :]\n",
    "                shank_offsets = np.array([self.shank_offsets_x[shank], 0])\n",
    "                self.current_eposns.append(posns_within_shank + shank_offsets)\n",
    "\n",
    "        self.current_eids = np.concatenate(self.current_eids)\n",
    "        self.current_shanks = np.concatenate(self.current_shanks)\n",
    "        self.current_eposns = np.concatenate(self.current_eposns, axis=0)\n",
    "\n",
    "    def set_dense_row(self, bank, row_in_bank, offset=0):\n",
    "        \"\"\"\n",
    "        Record from 2 groups in each shank, in a given bank.\n",
    "        Each bank has 4 effective \"rows\" since the groups are paired.\n",
    "        \"\"\"\n",
    "        if row_in_bank >= self.n_rows_per_bank:\n",
    "            raise ValueError(f\"Invalid row_in_bank: {row_in_bank}\")\n",
    "        self.current_eids = []\n",
    "        self.current_shanks = []\n",
    "        self.current_eposns = []\n",
    "        for shank in range(self.n_shanks):\n",
    "            for i in range(2):\n",
    "                group = row_in_bank * 2 + i + offset\n",
    "                these_eids = self.eids_from_group(bank, group)\n",
    "                self.current_eids.append(these_eids)\n",
    "                self.current_shanks.append([shank] * len(these_eids))\n",
    "                posns_within_shank = self.shank_electrode_positions[these_eids, :]\n",
    "                shank_offsets = np.array([self.shank_offsets_x[shank], 0])\n",
    "                self.current_eposns.append(posns_within_shank + shank_offsets)\n",
    "\n",
    "        self.current_eids = np.concatenate(self.current_eids)\n",
    "        self.current_shanks = np.concatenate(self.current_shanks)\n",
    "        self.current_eposns = np.concatenate(self.current_eposns, axis=0)\n",
    "\n",
    "    def set_diagonal(self, bank, lower_side=\"left\"):\n",
    "        \"\"\"\n",
    "        Record from 2 groups in each shank, in a given bank.\n",
    "        There are two possible diagonals: left or right.\n",
    "        \"\"\"\n",
    "        # This can be done by taking groups indices 0 and 1 from shank 1,\n",
    "        # 2 and 3 from shank 2, etc. The probe is designed such that this will always work.\n",
    "        self.current_eids = []\n",
    "        self.current_shanks = []\n",
    "        self.current_eposns = []\n",
    "\n",
    "        if lower_side == \"left\":\n",
    "            shank_order = np.arange(self.n_shanks)\n",
    "        elif lower_side == \"right\":\n",
    "            shank_order = np.arange(self.n_shanks - 1, -1, -1)\n",
    "        else:\n",
    "            raise ValueError(f\"Invalid lower_side: {lower_side}\")\n",
    "\n",
    "        for iShank, shank in enumerate(shank_order):\n",
    "            groups_to_use = [2 * iShank, 2 * iShank + 1]\n",
    "            for group in groups_to_use:\n",
    "                these_eids = self.eids_from_group(bank, group)\n",
    "                self.current_eids.append(these_eids)\n",
    "                self.current_shanks.append([shank] * len(these_eids))\n",
    "                posns_within_shank = self.shank_electrode_positions[these_eids, :]\n",
    "                shank_offsets = np.array([self.shank_offsets_x[shank], 0])\n",
    "                self.current_eposns.append(posns_within_shank + shank_offsets)\n",
    "        \n",
    "        self.current_eids = np.concatenate(self.current_eids)\n",
    "        self.current_shanks = np.concatenate(self.current_shanks)\n",
    "        self.current_eposns = np.concatenate(self.current_eposns, axis=0)\n",
    "\n",
    "    def set_double_tall(self, shank, lower_bank):\n",
    "        \"\"\"\n",
    "        Record from a single-width column of contacts across two adjacent banks, on a single shank.\n",
    "        \"\"\"\n",
    "        self.current_eids = []\n",
    "        self.current_shanks = []\n",
    "        self.current_eposns = []\n",
    "\n",
    "        banks_to_use = [lower_bank, lower_bank + 1]\n",
    "        for iBank, bank in enumerate(banks_to_use):\n",
    "            for group in range(self.n_groups_per_bank):\n",
    "                these_eids = self.eids_from_group(bank, group)\n",
    "                if iBank == 0:\n",
    "                    these_eids = these_eids[::2]  # Take every other electrode to get a single column\n",
    "                elif iBank == 1:\n",
    "                    these_eids = these_eids[1::2]\n",
    "                self.current_eids.append(these_eids)\n",
    "                self.current_shanks.append([shank] * len(these_eids))\n",
    "                posns_within_shank = self.shank_electrode_positions[these_eids, :]\n",
    "                shank_offsets = np.array([self.shank_offsets_x[shank], 0])\n",
    "                self.current_eposns.append(posns_within_shank + shank_offsets)\n",
    "\n",
    "        self.current_eids = np.concatenate(self.current_eids)\n",
    "        self.current_shanks = np.concatenate(self.current_shanks)\n",
    "        self.current_eposns = np.concatenate(self.current_eposns, axis=0)\n",
    "        \n",
    "    def set_electrode_config(self, config, **kwargs):\n",
    "        \"\"\"\n",
    "        Set the electrode configuration.\n",
    "        \"\"\"\n",
    "        if config == 'linear_single_shank':\n",
    "            self.set_linear_single_shank(**kwargs)\n",
    "        elif config == 'dense_row':\n",
    "            self.set_dense_row(**kwargs)\n",
    "        elif config == 'diagonal':\n",
    "            self.set_diagonal(**kwargs)\n",
    "        elif config == 'double_tall':\n",
    "            self.set_double_tall(**kwargs)\n",
    "        elif config == 'half_bank':\n",
    "            self.set_half_bank(**kwargs)\n",
    "        elif config == 'dense_row_offset':\n",
    "            self.set_dense_row(**kwargs, offset=1)\n",
    "        else:\n",
    "            raise ValueError(f\"Unknown configuration: {config}\")\n",
    "\n",
    "    def plot(self):\n",
    "        \"\"\"\n",
    "        Plot the current electrode configuration.\n",
    "        \"\"\"\n",
    "        fig, ax = plt.subplots(figsize=(3, 2))\n",
    "\n",
    "        # Draw the shanks as rectangles of height 1280 * self.dy, and width self.shank_pitch_x\n",
    "        offset = self.shank_width_x//4\n",
    "        max_y = self.shank_electrode_positions[-1, 1] + self.dy\n",
    "        for shank in range(4):\n",
    "            x = self.shank_offsets_x[shank] - offset\n",
    "            ax.plot([x, x], [0, max_y], 'k')\n",
    "            ax.plot([x + self.shank_width_x, x + self.shank_width_x], [0, max_y], 'k')\n",
    "            ax.plot([x, x + self.shank_width_x], [0, 0], 'k')\n",
    "            ax.plot([x, x + self.shank_width_x], [max_y, max_y], 'k')\n",
    "\n",
    "        # Draw the currently selected electrodes\n",
    "        ax.scatter(self.current_eposns[:, 0], self.current_eposns[:, 1], s=2)\n",
    "        plt.ylabel('Y (um)')\n",
    "        plt.xlabel('X (um)')\n",
    "        plt.show()\n",
    "\n"
   ]
  },
  {
   "cell_type": "code",
   "execution_count": 21,
   "metadata": {},
   "outputs": [],
   "source": [
    "npx = Npx2_Channel_Selector()"
   ]
  },
  {
   "cell_type": "code",
   "execution_count": 22,
   "metadata": {},
   "outputs": [
    {
     "data": {
      "image/png": "[encoded data removed]",
      "text/plain": [
       "<Figure size 300x200 with 1 Axes>"
      ]
     },
     "metadata": {},
     "output_type": "display_data"
    }
   ],
   "source": [
    "npx.set_electrode_config('double_tall', shank=0, lower_bank=0)\n",
    "npx.plot()"
   ]
  },
  {
   "cell_type": "code",
   "execution_count": 23,
   "metadata": {},
   "outputs": [
    {
     "data": {
      "image/png": "[encoded data removed]",
      "text/plain": [
       "<Figure size 300x200 with 1 Axes>"
      ]
     },
     "metadata": {},
     "output_type": "display_data"
    }
   ],
   "source": [
    "npx.set_electrode_config('half_bank', bank=0, shanks=[0,1])\n",
    "npx.plot()"
   ]
  },
  {
   "cell_type": "code",
   "execution_count": 27,
   "metadata": {},
   "outputs": [
    {
     "data": {
      "image/png": "[encoded data removed]",
      "text/plain": [
       "<Figure size 300x200 with 1 Axes>"
      ]
     },
     "metadata": {},
     "output_type": "display_data"
    }
   ],
   "source": [
    "npx.set_electrode_config('dense_row', bank=0, row_in_bank=1)\n",
    "npx.plot()"
   ]
  },
  {
   "cell_type": "code",
   "execution_count": null,
   "metadata": {},
   "outputs": [],
   "source": []
  },
  {
   "cell_type": "code",
   "execution_count": 40,
   "metadata": {},
   "outputs": [
    {
     "data": {
      "text/plain": [
       "'\\n{\\'info\\': \\'{\"plugin\": \"Neuropix-PXI\", \"version\": \"0.6.6\", \"probes\": [{\"name\": \"ProbeA\", \"type\": \"Neuropixels 2.0 - Multishank\", \"slot\": 2, \"port\": 3, \"dock\": 1, \"part_number\": \"NP2013\", \"serial_number\": \"22420014914\", \"is_calibrated\": false}]}\\'}\\n'"
      ]
     },
     "execution_count": 40,
     "metadata": {},
     "output_type": "execute_result"
    }
   ],
   "source": [
    "# import requests\n",
    "# r = requests.get(\"http://localhost:37497/api/processors\")\n",
    "\"\"\"\n",
    "'{\"processors\":[{\"id\":102,\"name\":\"Bandpass Filter\",\"parameters\":[],\"predecessor\":106,\"streams\":[{\"channel_count\":384,\"name\":\"ProbeA\",\"parameters\":[{\"name\":\"enable_stream\",\"type\":\"Boolean\",\"value\":\"true\"},{\"name\":\"high_cut\",\"type\":\"Float\",\"value\":\"6000\"},{\"name\":\"low_cut\",\"type\":\"Float\",\"value\":\"300\"},{\"name\":\"Channels\",\"type\":\"Mask Channels\",\"value\":\"\"}],\"sample_rate\":30000.0,\"source_id\":105}]},{\"id\":104,\"name\":\"Neuropixels CAR\",\"parameters\":[],\"predecessor\":102,\"streams\":[{\"channel_count\":384,\"name\":\"ProbeA\",\"parameters\":[{\"name\":\"enable_stream\",\"type\":\"Boolean\",\"value\":\"true\"},{\"name\":\"Channels\",\"type\":\"Mask Channels\",\"value\":\"\"}],\"sample_rate\":30000.0,\"source_id\":105}]},{\"id\":101,\"name\":\"LFP Viewer\",\"parameters\":[],\"predecessor\":104,\"streams\":[{\"channel_count\":384,\"name\":\"ProbeA\",\"parameters\":[{\"name\":\"enable_stream\",\"type\":\"Boolean\",\"value\":\"true\"}],\"sample_rate\":30000.0,\"source_id\":105}]},{\"id\":105,\"name\":\"Neuropix-PXI\",\"parameters\":[],\"predecessor\":null,\"streams\":[{\"channel_count\":384,\"name\":\"ProbeA\",\"parameters\":[],\"sample_rate\":30000.0,\"source_id\":105}]},{\"id\":106,\"name\":\"Record Node\",\"parameters\":[],\"predecessor\":105,\"streams\":[{\"channel_count\":384,\"name\":\"ProbeA\",\"parameters\":[{\"name\":\"enable_stream\",\"type\":\"Boolean\",\"value\":\"true\"}],\"sample_rate\":30000.0,\"source_id\":105}]}]}'\n",
    "\"\"\"\n",
    "\n",
    "# TODO: the processor ID can change seemingly at random.\n",
    "# So whenever we're abt to do sth, ask for np info, and check that plugin is neuropix-pxi.\n",
    "# if not, send request for processors and find id for the pxi and re-connect.\n",
    "\n",
    "# npx.gui.config(105, \"NP INFO\")\n",
    "\"\"\"\n",
    "{'info': '{\"plugin\": \"Neuropix-PXI\", \"version\": \"0.6.6\", \"probes\": [{\"name\": \"ProbeA\", \"type\": \"Neuropixels 2.0 - Multishank\", \"slot\": 2, \"port\": 3, \"dock\": 1, \"part_number\": \"NP2013\", \"serial_number\": \"22420014914\", \"is_calibrated\": false}]}'}\n",
    "\"\"\""
   ]
  },
  {
   "cell_type": "code",
   "execution_count": 41,
   "metadata": {},
   "outputs": [],
   "source": [
    "npx.oe_connect(processor_id=107, basestation=2, dock=1, port=3)"
   ]
  },
  {
   "cell_type": "code",
   "execution_count": 42,
   "metadata": {},
   "outputs": [],
   "source": [
    "npx.set_electrode_config('double_tall', shank=0, lower_bank=0)\n",
    "npx.oe_select_current_channels()"
   ]
  },
  {
   "cell_type": "code",
   "execution_count": 37,
   "metadata": {},
   "outputs": [],
   "source": [
    "rec_time_s = 300\n",
    "# todo: figure out how to start a new session here\n",
    "for shank in range(4):\n",
    "    npx.set_electrode_config('double_tall', shank=shank, lower_bank=0)\n",
    "    npx.oe_select_current_channels()\n",
    "    time.sleep(1)\n",
    "    npx.gui.record(rec_time_s)"
   ]
  },
  {
   "cell_type": "code",
   "execution_count": 19,
   "metadata": {},
   "outputs": [
    {
     "data": {
      "image/png": "[encoded data removed]",
      "text/plain": [
       "<Figure size 300x200 with 1 Axes>"
      ]
     },
     "metadata": {},
     "output_type": "display_data"
    }
   ],
   "source": [
    "npx.set_electrode_config('linear_single_shank', shank=0, bank=0)\n",
    "npx.plot()"
   ]
  },
  {
   "cell_type": "code",
   "execution_count": 21,
   "metadata": {},
   "outputs": [],
   "source": [
    "npx.set_electrode_config('double_tall', shank=0, lower_bank=0)"
   ]
  },
  {
   "cell_type": "code",
   "execution_count": 21,
   "metadata": {},
   "outputs": [],
   "source": [
    "npx.oe_select_current_channels()"
   ]
  },
  {
   "cell_type": "code",
   "execution_count": 14,
   "metadata": {},
   "outputs": [
    {
     "data": {
      "image/png": "[encoded data removed]",
      "text/plain": [
       "<Figure size 300x200 with 1 Axes>"
      ]
     },
     "metadata": {},
     "output_type": "display_data"
    }
   ],
   "source": [
    "npx.set_electrode_config('dense_row', bank=0, row_in_bank=0)\n",
    "npx.plot()"
   ]
  },
  {
   "cell_type": "code",
   "execution_count": 19,
   "metadata": {},
   "outputs": [
    {
     "data": {
      "image/png": "[encoded data removed]",
      "text/plain": [
       "<Figure size 300x200 with 1 Axes>"
      ]
     },
     "metadata": {},
     "output_type": "display_data"
    }
   ],
   "source": [
    "npx.set_electrode_config('diagonal', bank=0, lower_side=\"right\")\n",
    "npx.plot()\n"
   ]
  }
 ],
 "metadata": {
  "kernelspec": {
   "display_name": "Python 3 (ipykernel)",
   "language": "python",
   "name": "python3"
  },
  "language_info": {
   "codemirror_mode": {
    "name": "ipython",
    "version": 3
   },
   "file_extension": ".py",
   "mimetype": "text/x-python",
   "name": "python",
   "nbconvert_exporter": "python",
   "pygments_lexer": "ipython3",
   "version": "3.7.16"
  }
 },
 "nbformat": 4,
 "nbformat_minor": 2
}
